{
 "cells": [
  {
   "cell_type": "code",
   "execution_count": null,
   "metadata": {},
   "outputs": [],
   "source": []
  },
  {
   "cell_type": "code",
   "execution_count": null,
   "metadata": {},
   "outputs": [],
   "source": [
    "import os\n",
    "import numpy as np\n",
    "from tensorflow.keras.applications.imagenet_utils import preprocess_input\n",
    "from tensorflow.keras.preprocessing import image\n",
    "\n",
    "\n",
    "def load_paired_img_wrd(folder):\n",
    "\n",
    "    class_names = [fold for fold in os.listdir(folder) if \".DS\" not in fold]\n",
    "    image_list = []\n",
    "    labels_list = []\n",
    "    paths_list = []\n",
    "    for cl in class_names:\n",
    "        splits = cl.split(\"_\")\n",
    "        \n",
    "        subfiles = [f for f in os.listdir(folder + \"/\" + cl) if \".DS\" not in f]\n",
    "\n",
    "        for subf in subfiles:\n",
    "            full_path = os.path.join(folder, cl, subf)\n",
    "            img = image.load_img(full_path, target_size=(224, 224))\n",
    "            x_raw = image.img_to_array(img)\n",
    "            x_expand = np.expand_dims(x_raw, axis=0)\n",
    "            x = preprocess_input(x_expand)\n",
    "            image_list.append(x)\n",
    "            paths_list.append(full_path)\n",
    "    img_data = np.array(image_list)\n",
    "    img_data = np.rollaxis(img_data, 1, 0)\n",
    "    img_data = img_data[0]\n",
    "\n",
    "    return img_data, paths_list"
   ]
  },
  {
   "cell_type": "code",
   "execution_count": null,
   "metadata": {},
   "outputs": [],
   "source": [
    "from tensorflow.keras.applications import vgg16\n",
    "from tensorflow.keras.models import Model\n",
    "\n",
    "def load_headless_pretrained_model():\n",
    "\n",
    "    pretrained_vgg16 = vgg16.VGG16(weights='imagenet', include_top=True)\n",
    "    model = Model(inputs=pretrained_vgg16.input,\n",
    "                  outputs=pretrained_vgg16.get_layer('fc2').output)\n",
    "    return model"
   ]
  },
  {
   "cell_type": "code",
   "execution_count": null,
   "metadata": {},
   "outputs": [],
   "source": [
    "def generate_features(image_paths, model):\n",
    "\n",
    "    print (\"Generating features...\")\n",
    "    start = time.time()\n",
    "    images = np.zeros(shape=(len(image_paths), 224, 224, 3))\n",
    "    file_mapping = {i: f for i, f in enumerate(image_paths)}\n",
    "\n",
    "    # We load all our dataset in memory because it is relatively small\n",
    "    for i, f in enumerate(image_paths):\n",
    "        img = image.load_img(f, target_size=(224, 224))\n",
    "        x_raw = image.img_to_array(img)\n",
    "        x_expand = np.expand_dims(x_raw, axis=0)\n",
    "        images[i, :, :, :] = x_expand\n",
    "\n",
    "    logger.info(\"%s images loaded\" % len(images))\n",
    "    inputs = preprocess_input(images)\n",
    "    logger.info(\"Images preprocessed\")\n",
    "    images_features = model.predict(inputs)\n",
    "    end = time.time()\n",
    "    logger.info(\"Inference done, %s Generation time\" % (end - start))\n",
    "    return images_features, file_mapping"
   ]
  },
  {
   "cell_type": "code",
   "execution_count": null,
   "metadata": {},
   "outputs": [],
   "source": [
    "def get_class_weights_from_vgg(save_weights=False, filename='class_weights'):\n",
    "\n",
    "    model_weights_path = os.path.join(os.environ.get('HOME'),\n",
    "                                      '.keras/models/vgg16_weights_tf_dim_ordering_tf_kernels.h5')\n",
    "    weights_file = h5py.File(model_weights_path, 'r')\n",
    "    weights_file.get('predictions').get('predictions_W_1:0')\n",
    "    final_weights = weights_file.get('predictions').get('predictions_W_1:0')\n",
    "\n",
    "    class_weights = np.array(final_weights)[:]\n",
    "    weights_file.close()\n",
    "    if save_weights:\n",
    "        np.save('%s.npy' % filename, class_weights)\n",
    "    return class_weights"
   ]
  },
  {
   "cell_type": "code",
   "execution_count": null,
   "metadata": {},
   "outputs": [],
   "source": [
    "def get_weighted_features(class_index, images_features):\n",
    "\n",
    "    class_weights = get_class_weights_from_vgg()\n",
    "    target_class_weights = class_weights[:, class_index]\n",
    "    weighted = images_features * target_class_weights\n",
    "    return weighted"
   ]
  },
  {
   "cell_type": "code",
   "execution_count": null,
   "metadata": {},
   "outputs": [],
   "source": [
    "def index_features(features, n_trees=1000, dims=4096, is_dict=False):\n",
    "\n",
    "    print (\"Indexing features...\")\n",
    "    feature_index = AnnoyIndex(dims, metric='angular')\n",
    "    for i, row in enumerate(features):\n",
    "        vec = row\n",
    "        if is_dict:\n",
    "            vec = features[row]\n",
    "        feature_index.add_item(i, vec)\n",
    "    feature_index.build(n_trees)\n",
    "    return feature_index"
   ]
  },
  {
   "cell_type": "code",
   "execution_count": null,
   "metadata": {},
   "outputs": [],
   "source": [
    "def load_features(features_filename, mapping_filename):\n",
    "\n",
    "    print (\"Loading features...\")\n",
    "    images_features = np.load('%s.npy' % features_filename)\n",
    "    with open('%s.json' % mapping_filename) as f:\n",
    "        index_str = json.load(f)\n",
    "        file_index = {int(k): str(v) for k, v in index_str.items()}\n",
    "    return images_features, file_index"
   ]
  },
  {
   "cell_type": "code",
   "execution_count": null,
   "metadata": {},
   "outputs": [],
   "source": [
    "weighted_features_path = '/Users/mac/Documents/Machine Learning/Machine Learning Courses/Courses at Vietnam National University/10. Capstone project/Final project/Report'\n",
    "weighted_features, file_index = load_features(path2, path2)"
   ]
  },
  {
   "cell_type": "code",
   "execution_count": null,
   "metadata": {},
   "outputs": [],
   "source": [
    "def get_index(input_image, file_mapping):\n",
    "    for index, file in file_mapping.items():\n",
    "        if file == input_image:\n",
    "            return index\n",
    "    raise ValueError(\"Image %s not indexed\" % input_image)"
   ]
  },
  {
   "cell_type": "code",
   "execution_count": null,
   "metadata": {},
   "outputs": [],
   "source": [
    "def search_index_by_key(key, feature_index, item_mapping, top_n=10):\n",
    "    distances = feature_index.get_nns_by_item(key, top_n, include_distances=True)\n",
    "    return [[a, item_mapping[a], distances[1][i]] for i, a in enumerate(distances[0])]"
   ]
  },
  {
   "cell_type": "code",
   "execution_count": null,
   "metadata": {},
   "outputs": [],
   "source": [
    "input_path = uploaded_file\n",
    "search_key1 = get_index(input_path, file_index)\n",
    "results = search_index_by_key(search_key1, weighted_index, file_index)\n",
    "import matplotlib.pyplot as plt\n",
    "import matplotlib.image as mpimg\n",
    "for i in range(len(results)):\n",
    "    im = results[i][1]\n",
    "    img=mpimg.imread(im)\n",
    "    if i==0:\n",
    "        img_ = img.copy()\n",
    "    else:\n",
    "        img_ = np.concatenate((img_,img), axis=1)\n",
    "\n",
    "plt.figure(figsize=(15,15))\n",
    "plt.imshow(img_)\n",
    "plt.show()"
   ]
  }
 ],
 "metadata": {
  "kernelspec": {
   "display_name": "Python 3",
   "language": "python",
   "name": "python3"
  },
  "language_info": {
   "codemirror_mode": {
    "name": "ipython",
    "version": 3
   },
   "file_extension": ".py",
   "mimetype": "text/x-python",
   "name": "python",
   "nbconvert_exporter": "python",
   "pygments_lexer": "ipython3",
   "version": "3.7.4"
  }
 },
 "nbformat": 4,
 "nbformat_minor": 2
}
