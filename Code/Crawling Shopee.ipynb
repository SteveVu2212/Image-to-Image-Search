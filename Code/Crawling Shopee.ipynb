{
 "cells": [
  {
   "cell_type": "code",
   "execution_count": 2,
   "metadata": {},
   "outputs": [
    {
     "name": "stderr",
     "output_type": "stream",
     "text": [
      "[WDM] - Current google-chrome version is 84.0.4147\n",
      "[WDM] - Get LATEST driver version for 84.0.4147\n",
      "[WDM] - Driver [/Users/mac/.wdm/drivers/chromedriver/mac64/84.0.4147.30/chromedriver] found in cache\n"
     ]
    },
    {
     "name": "stdout",
     "output_type": "stream",
     "text": [
      " \n"
     ]
    },
    {
     "ename": "KeyboardInterrupt",
     "evalue": "",
     "output_type": "error",
     "traceback": [
      "\u001b[0;31m---------------------------------------------------------------------------\u001b[0m",
      "\u001b[0;31mKeyboardInterrupt\u001b[0m                         Traceback (most recent call last)",
      "\u001b[0;32m<ipython-input-2-494c89886cd6>\u001b[0m in \u001b[0;36m<module>\u001b[0;34m\u001b[0m\n\u001b[1;32m     24\u001b[0m \u001b[0;34m\u001b[0m\u001b[0m\n\u001b[1;32m     25\u001b[0m         \u001b[0;31m#Scroll down de hien hinh anh\u001b[0m\u001b[0;34m\u001b[0m\u001b[0;34m\u001b[0m\u001b[0;34m\u001b[0m\u001b[0m\n\u001b[0;32m---> 26\u001b[0;31m         \u001b[0mtime\u001b[0m\u001b[0;34m.\u001b[0m\u001b[0msleep\u001b[0m\u001b[0;34m(\u001b[0m\u001b[0;36m5\u001b[0m\u001b[0;34m)\u001b[0m \u001b[0;31m#May cai sleep nay la de doi no load xong\u001b[0m\u001b[0;34m\u001b[0m\u001b[0;34m\u001b[0m\u001b[0m\n\u001b[0m\u001b[1;32m     27\u001b[0m         \u001b[0mdriver\u001b[0m\u001b[0;34m.\u001b[0m\u001b[0mexecute_script\u001b[0m\u001b[0;34m(\u001b[0m\u001b[0;34m\"window.scrollTo(0, document.body.scrollHeight*0.25);\"\u001b[0m\u001b[0;34m)\u001b[0m \u001b[0;31m# scroll page xuong 1 xiu\u001b[0m\u001b[0;34m\u001b[0m\u001b[0;34m\u001b[0m\u001b[0m\n\u001b[1;32m     28\u001b[0m         \u001b[0mtime\u001b[0m\u001b[0;34m.\u001b[0m\u001b[0msleep\u001b[0m\u001b[0;34m(\u001b[0m\u001b[0;36m2\u001b[0m\u001b[0;34m)\u001b[0m\u001b[0;34m\u001b[0m\u001b[0;34m\u001b[0m\u001b[0m\n",
      "\u001b[0;31mKeyboardInterrupt\u001b[0m: "
     ]
    }
   ],
   "source": [
    "import urllib.parse\n",
    "\n",
    "\n",
    "from webdriver_manager.chrome import ChromeDriverManager \n",
    "from selenium import webdriver\n",
    "driver = webdriver.Chrome(ChromeDriverManager().install())\n",
    "import time\n",
    "import os \n",
    "ls = ['cặp sách', 'áo thun', 'xe máy honda', 'điện thoại', 'máy tính bảng', 'máy vi tính', 'tai nghe', 'nồi cơm', 'nước hoa', 'đồng hồ', 'sách','vali', 'dụng cụ thể thao', 'nệm', 'xong chảo', 'nồi cơm'] # Anh thêm class ở đây\n",
    "\n",
    "\n",
    "for clas in ls:\n",
    "    ds = []\n",
    "    dir1 = r'/Users/mac/Documents/Machine Learning/Machine Learning Courses/Courses at Vietnam National University/Capstone project/class-' +  clas #Anh sữa lại đường link của anh\n",
    "    os.mkdir(dir1)\n",
    "    for i in range(1,31): \n",
    "        \n",
    "       \n",
    "        parse = urllib.parse.quote(clas)\n",
    "        url = 'https://shopee.vn/search?keyword='+ parse+'&page=' + str(i)\n",
    "        driver.get(url)\n",
    "        \n",
    "        \n",
    "        time.sleep(5) \n",
    "        driver.execute_script(\"window.scrollTo(0, document.body.scrollHeight*0.25);\") \n",
    "        time.sleep(2)\n",
    "        driver.execute_script(\"window.scrollTo(0, document.body.scrollHeight*0.5);\") \n",
    "        time.sleep(2)\n",
    "        driver.execute_script(\"window.scrollTo(0, document.body.scrollHeight*0.75);\") \n",
    "        time.sleep(2)\n",
    "        driver.execute_script(\"window.scrollTo(0, document.body.scrollHeight);\") \n",
    "        time.sleep(5)\n",
    "        \n",
    "        \n",
    "        ls = driver.find_elements_by_class_name('_1T9dHf') \n",
    "        for el in ls:\n",
    "            ds.append(el.get_attribute('src'))\n",
    "    \n",
    "    \n",
    "    for i in range(1,len(ds)+1):\n",
    "        \n",
    "        opener = urllib.request.build_opener()\n",
    "        urllib.request.install_opener(opener)\n",
    "        try:\n",
    "            filename, headers = urllib.request.urlretrieve(url=ds[i-1],filename= 'class-' + clas + \"/\" +str(i) + \".jfif\" )\n",
    "        except:\n",
    "            pass\n",
    "    time.sleep(5)\n",
    "driver.close()"
   ]
  },
  {
   "cell_type": "code",
   "execution_count": null,
   "metadata": {},
   "outputs": [],
   "source": [
    "ds[i-1]"
   ]
  },
  {
   "cell_type": "code",
   "execution_count": null,
   "metadata": {},
   "outputs": [],
   "source": []
  }
 ],
 "metadata": {
  "kernelspec": {
   "display_name": "Python 3",
   "language": "python",
   "name": "python3"
  },
  "language_info": {
   "codemirror_mode": {
    "name": "ipython",
    "version": 3
   },
   "file_extension": ".py",
   "mimetype": "text/x-python",
   "name": "python",
   "nbconvert_exporter": "python",
   "pygments_lexer": "ipython3",
   "version": "3.7.4"
  }
 },
 "nbformat": 4,
 "nbformat_minor": 4
}
